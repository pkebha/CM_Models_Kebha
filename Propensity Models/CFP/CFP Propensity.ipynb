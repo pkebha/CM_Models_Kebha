{
 "cells": [
  {
   "cell_type": "markdown",
   "id": "f816776d",
   "metadata": {},
   "source": [
    "# CFP Propensity Version 1.0"
   ]
  },
  {
   "cell_type": "markdown",
   "id": "6caaf12c",
   "metadata": {},
   "source": [
    "### LIBRARY IMPORTS"
   ]
  },
  {
   "cell_type": "code",
   "execution_count": null,
   "id": "1f2b0945",
   "metadata": {},
   "outputs": [],
   "source": [
    "'''Importing Required Libraries'''\n",
    "import copy\n",
    "from collections import OrderedDict\n",
    "import pandas as pd\n",
    "pd.set_option('display.max_columns', None)\n",
    "pd.set_option('display.max_rows', None)\n",
    "pd.options.display.float_format = '{:.2f}'.format\n",
    "pd.options.mode.chained_assignment = None  # default='warn'\n",
    "import numpy as np\n",
    "import matplotlib.pyplot as plt\n",
    "import seaborn as sns\n",
    "from scipy import stats\n",
    "from scipy.stats import norm, skew\n",
    "from sklearn.preprocessing import PowerTransformer, QuantileTransformer\n",
    "from sklearn.preprocessing import StandardScaler\n",
    "from sklearn.model_selection import train_test_split\n",
    "from sklearn.model_selection import GridSearchCV, RandomizedSearchCV\n",
    "from sklearn.linear_model import LogisticRegression, SGDClassifier\n",
    "from sklearn.ensemble import RandomForestClassifier\n",
    "from sklearn.calibration import CalibratedClassifierCV\n",
    "from sklearn.metrics import accuracy_score, roc_curve, roc_auc_score, confusion_matrix, ConfusionMatrixDisplay\n",
    "from sklearn.metrics import mean_squared_error, mean_absolute_error, r2_score\n",
    "import joblib"
   ]
  },
  {
   "cell_type": "markdown",
   "id": "3c8cc050",
   "metadata": {},
   "source": [
    "### DATA IMPORT"
   ]
  },
  {
   "cell_type": "code",
   "execution_count": null,
   "id": "8c960669",
   "metadata": {
    "scrolled": true
   },
   "outputs": [],
   "source": [
    "'''Importing the data for modelling'''\n",
    "# cfp_data = pd.read_csv(r\"D:\\Dbeaver Out\\CFP_Data_Green_202301051222.csv\", na_values=['',' ','NH', 'NA', '[]'])\n",
    "cfp_data = pd.read_csv(r\"D:\\Dbeaver Out\\CFP_Data_Red_202301051318.csv\", na_values=['',' ','NH', 'NA', '[]'])"
   ]
  },
  {
   "cell_type": "code",
   "execution_count": null,
   "id": "72635fda",
   "metadata": {},
   "outputs": [],
   "source": [
    "cfp_data.shape"
   ]
  },
  {
   "cell_type": "code",
   "execution_count": null,
   "id": "b69ba323",
   "metadata": {},
   "outputs": [],
   "source": [
    "cfp_data.columns"
   ]
  },
  {
   "cell_type": "code",
   "execution_count": null,
   "id": "eee5c289",
   "metadata": {},
   "outputs": [],
   "source": [
    "cfp_data.head()"
   ]
  },
  {
   "cell_type": "markdown",
   "id": "c1a3546f",
   "metadata": {},
   "source": [
    "## PRE-PROCESSING"
   ]
  },
  {
   "cell_type": "markdown",
   "id": "06a14f8d",
   "metadata": {},
   "source": [
    "#### Handling Null Values"
   ]
  },
  {
   "cell_type": "code",
   "execution_count": null,
   "id": "cc8c1192",
   "metadata": {},
   "outputs": [],
   "source": [
    "cfp_data.isnull().sum()"
   ]
  },
  {
   "cell_type": "code",
   "execution_count": null,
   "id": "70fce9b7",
   "metadata": {},
   "outputs": [],
   "source": [
    "cfp_data.describe(percentiles=[0.05,0.10,0.25,0.5,0.75,0.9,0.95,0.99]).transpose()"
   ]
  },
  {
   "cell_type": "code",
   "execution_count": null,
   "id": "25e29ec9",
   "metadata": {},
   "outputs": [],
   "source": [
    "''' Replacing with 0s and Harcoded Values'''\n",
    "cfp_data.ptp_last_three_months_flag.fillna(0, inplace= True)\n",
    "cfp_data.totl_neg_ratio.fillna(0, inplace= True)\n",
    "cfp_data.max_score.fillna(cfp_data.max_score.mean(),inplace=True)\n",
    "cfp_data.auto_loan_close_count_last3mnths.fillna(0, inplace= True)\n",
    "cfp_data.gold_loan_close_count_last3mnths.fillna(0, inplace= True)\n",
    "cfp_data.consumer_loan_close_count_last3mnths.fillna(0, inplace= True)\n",
    "cfp_data.housing_loan_close_count_last3mnths.fillna(0, inplace= True)\n",
    "cfp_data.credit_card_close_count_last3mnths.fillna(0, inplace= True)\n",
    "cfp_data.personal_loan_close_count_last3mnths.fillna(0, inplace= True)\n",
    "cfp_data.two_wheeler_close_count_last3mnths.fillna(0, inplace= True)\n",
    "cfp_data.individual_close_account_last3mnths.fillna(0, inplace= True)\n",
    "cfp_data.secured_close_last3mnths.fillna(0, inplace= True)\n",
    "cfp_data.closed_accounts_last3mnths.fillna(0, inplace= True)\n",
    "cfp_data.negative_status_close_count_last3mnths.fillna(0, inplace= True)\n",
    "cfp_data.joint_account_close_last3mnths.fillna(0, inplace= True)\n",
    "cfp_data.unsecured_close_last3mnths.fillna(0, inplace= True)\n",
    "\n",
    "cfp_data.auto_loan_count.fillna(0, inplace= True)\n",
    "cfp_data.gold_loan_count.fillna(0, inplace= True)\n",
    "cfp_data.consumer_loan_count.fillna(0, inplace= True)\n",
    "cfp_data.housing_loan_count.fillna(0, inplace= True)\n",
    "cfp_data.credit_card_count.fillna(0, inplace= True)\n",
    "cfp_data.personal_loan_count.fillna(0, inplace= True)\n",
    "cfp_data.two_wheeler_count.fillna(0, inplace= True)\n",
    "cfp_data.individual_account.fillna(0, inplace= True)\n",
    "cfp_data.open_accounts.fillna(0, inplace= True)\n",
    "cfp_data.settled_accounts.fillna(0, inplace= True)\n",
    "cfp_data.secured.fillna(0, inplace= True)\n",
    "cfp_data.unsecured.fillna(0, inplace= True)\n",
    "cfp_data.open_negative_status_count.fillna(0, inplace= True)\n",
    "cfp_data.joint_account.fillna(0, inplace= True)\n",
    "cfp_data.total_balance.fillna(0, inplace= True)\n",
    "cfp_data.written_off_accounts.fillna(0, inplace= True)\n",
    "cfp_data.flows_accounts.fillna(0, inplace= True)\n",
    "cfp_data.open_accounts.fillna(0, inplace= True)\n",
    "cfp_data.closed_accounts.fillna(0, inplace= True)\n",
    "\n",
    "\n",
    "cfp_data.hdfc_neg_flag.fillna(0, inplace= True)\n",
    "cfp_data.citi_neg_flag.fillna(0, inplace= True)\n",
    "cfp_data.sbi_neg_flag.fillna(0, inplace= True)        \n",
    "cfp_data.icici_neg_flag.fillna(0, inplace= True)         \n",
    "cfp_data.cc_neg_flag.fillna(0, inplace= True)       \n",
    "cfp_data.pl_neg_flag.fillna(0, inplace= True)\n",
    "cfp_data.cl_neg_flag.fillna(0, inplace= True)\n",
    "\n",
    "cfp_data.total_balance.fillna(cfp_data.total_balance.mean(),inplace=True)\n",
    "cfp_data.total_emi_amount.fillna(cfp_data.total_emi_amount.mean(),inplace=True)\n",
    "cfp_data.total_amt_sanctioned.fillna(cfp_data.total_amt_sanctioned.mean(),inplace=True)\n",
    "\n",
    "cfp_data.score_on_m9.fillna(0, inplace= True)\n",
    "cfp_data.score_on_m3.fillna(0, inplace= True)\n",
    "cfp_data.score_on_m12.fillna(0, inplace= True)\n",
    "cfp_data.score_on_m6.fillna(0, inplace= True)\n",
    "cfp_data.neg_acc_on_m9.fillna(0, inplace= True)\n",
    "cfp_data.neg_acc_on_m3.fillna(0, inplace= True)\n",
    "cfp_data.neg_acc_on_m12.fillna(0, inplace= True)\n",
    "cfp_data.neg_acc_on_m6.fillna(0, inplace= True)\n",
    "cfp_data.max_dpd_on_m9.fillna(0, inplace= True)\n",
    "cfp_data.max_dpd_on_m3.fillna(0, inplace= True)\n",
    "cfp_data.max_dpd_on_m12.fillna(0, inplace= True)\n",
    "cfp_data.max_dpd_on_m6.fillna(0, inplace= True)\n",
    "\n",
    "# cfp_data.score_track.fillna(0, inplace= True)\n",
    "# cfp_data.neg_acc_track.fillna(0, inplace= True)\n",
    "# cfp_data.max_dpd_track.fillna(0, inplace= True)\n",
    "\n",
    "cfp_data.cfp_interest.fillna(0, inplace= True)\n",
    "\n",
    "cfp_data.salary_account.fillna('Unknown', inplace=True)"
   ]
  },
  {
   "cell_type": "code",
   "execution_count": null,
   "id": "97dadafd",
   "metadata": {},
   "outputs": [],
   "source": [
    "'''Replacing based on median'''\n",
    "median_marriage_age=np.median(cfp_data.age[cfp_data['marital_status'] == 'Married'])\n",
    "def marital_na_filler(marital_status, age): \n",
    "    try: \n",
    "        if np.isnan(marital_status): \n",
    "            if age >= median_marriage_age: \n",
    "                return 'Married' \n",
    "            else: \n",
    "                return 'Single' \n",
    "        else: \n",
    "            return (marital_status) \n",
    "    except: \n",
    "        return (marital_status)\n",
    "cfp_data.marital_status = cfp_data.apply(lambda x: marital_na_filler(x.marital_status, x.age), axis = 1)"
   ]
  },
  {
   "cell_type": "code",
   "execution_count": null,
   "id": "23963ac2",
   "metadata": {},
   "outputs": [],
   "source": [
    "'''Replacing based on mean'''\n",
    "cfp_data.age.fillna(np.mean(cfp_data.age), inplace= True)\n",
    "cfp_data.monthly_income.fillna(np.mean(cfp_data.monthly_income), inplace= True)"
   ]
  },
  {
   "cell_type": "code",
   "execution_count": null,
   "id": "da3b681c",
   "metadata": {},
   "outputs": [],
   "source": [
    "'''Replacing based on Mode'''\n",
    "mode_credit_limit=cfp_data.credit_limit.mode()\n",
    "cfp_data.credit_limit.fillna(int(mode_credit_limit),inplace=True)\n",
    "\n",
    "mode_repayment_tenure=cfp_data.repayment_tenure.mode()\n",
    "cfp_data.repayment_tenure.fillna(int(mode_repayment_tenure),inplace=True)"
   ]
  },
  {
   "cell_type": "code",
   "execution_count": null,
   "id": "ad9c3c28",
   "metadata": {},
   "outputs": [],
   "source": [
    "''' Replacing FLAG in city_band with 'Missing/Others' '''\n",
    "cfp_data.city_band = cfp_data.city_band.apply(lambda x: 'Missing/Others' if x == 'FLAG' else x)"
   ]
  },
  {
   "cell_type": "code",
   "execution_count": null,
   "id": "e93614a8",
   "metadata": {},
   "outputs": [],
   "source": [
    "'''Format Employment and handle null values'''\n",
    "def getFormattedEmploymentType(employment_type):\n",
    "    try:\n",
    "        formatted_employment_type = \"\"\n",
    "        salaried_list = ['Salaried','salaried','Salaried Doctor','Working Executive','Student','Salaried doctor', 'salaried', 'salariedDoctor']\n",
    "        self_employed_list = ['Self Employed', 'Self employed', 'Self employed professional', 'Self-Employed', 'selfemployee', 'selfEmployedProfessional','Self employed business', 'selfEmployedBusiness', 'Self Employed Business']\n",
    "        if employment_type in salaried_list:\n",
    "            return \"Salaried\"\n",
    "        elif employment_type in self_employed_list:\n",
    "            return \"Self Employed\"\n",
    "        else:\n",
    "            return 'Salaried'\n",
    "    except:\n",
    "        return employment_type\n",
    "cfp_data.employment_type = cfp_data.employment_type.apply(lambda x: getFormattedEmploymentType(x))"
   ]
  },
  {
   "cell_type": "code",
   "execution_count": null,
   "id": "3bf6a6c3",
   "metadata": {},
   "outputs": [],
   "source": [
    "''' Income and Age to positive if negative '''\n",
    "\n",
    "cfp_data.monthly_income = cfp_data.monthly_income.apply(lambda x: (x * -1) if x < 0 else x)\n",
    "cfp_data.age = cfp_data.age.apply(lambda x: (x * -1) if x < 0 else x)"
   ]
  },
  {
   "cell_type": "code",
   "execution_count": null,
   "id": "82b6b913",
   "metadata": {},
   "outputs": [],
   "source": [
    "cfp_data.isnull().sum()\n",
    "# cfp_data.salary_account.value_counts()"
   ]
  },
  {
   "cell_type": "code",
   "execution_count": null,
   "id": "82aba959",
   "metadata": {},
   "outputs": [],
   "source": [
    "cfp_backup=copy.deepcopy(cfp_data)\n",
    "cfp_data.drop(['ltd','latest_login_date','first_profile_date','latest_profile_date','pincode'],axis=1,inplace=True)"
   ]
  },
  {
   "cell_type": "markdown",
   "id": "f1e37601",
   "metadata": {},
   "source": [
    "#### Probe and Handle Outliers"
   ]
  },
  {
   "cell_type": "code",
   "execution_count": null,
   "id": "0c090317",
   "metadata": {},
   "outputs": [],
   "source": [
    "numerical_columns=list(cfp_data.select_dtypes(include='number').columns)\n",
    "exclude=['user_id','cfp_subscribed','monthly_income', 'age','cfp_interest','positive_response_rate', 'contactability',\n",
    "         'ptp_last_three_months_flag']\n",
    "for feature in exclude:\n",
    "    numerical_columns.remove(feature)\n",
    "print(numerical_columns)"
   ]
  },
  {
   "cell_type": "code",
   "execution_count": null,
   "id": "83a82393",
   "metadata": {},
   "outputs": [],
   "source": [
    "sns.displot(cfp_data[numerical_columns[20]])"
   ]
  },
  {
   "cell_type": "code",
   "execution_count": null,
   "id": "f428f987",
   "metadata": {},
   "outputs": [],
   "source": [
    "'''Percentile values'''\n",
    "Q05=cfp_data.quantile(0.05)\n",
    "Q10=cfp_data.quantile(0.10)\n",
    "Q95=cfp_data.quantile(0.95)"
   ]
  },
  {
   "cell_type": "code",
   "execution_count": null,
   "id": "3b362d98",
   "metadata": {},
   "outputs": [],
   "source": [
    "'''Capping Upper Limit'''\n",
    "cfp_data['monthly_income'] = np.where(cfp_data['monthly_income']>Q95.monthly_income,Q95.monthly_income,cfp_data['monthly_income'])\n",
    "cfp_data['nsaleable'] = np.where(cfp_data['nsaleable']>Q95.nsaleable,Q95.nsaleable,cfp_data['nsaleable'])\n",
    "for feature in numerical_columns:\n",
    "    cfp_data[feature] = np.where(cfp_data[feature]>Q95[feature],Q95[feature],cfp_data[feature])\n",
    "\n",
    "\n",
    "'''Capping Upper and Lower Limit'''\n",
    "cfp_data['age'] = np.where(cfp_data['age']>Q95.age,Q95.age,np.where(cfp_data['age']<Q05.age,Q05.age,cfp_data['age']))"
   ]
  },
  {
   "cell_type": "code",
   "execution_count": null,
   "id": "b1207296",
   "metadata": {
    "scrolled": false
   },
   "outputs": [],
   "source": [
    "'''Finding Skewness'''\n",
    "def find_skew(data,numerical_columns):\n",
    "    skew_list={}\n",
    "    for feature in numerical_columns:\n",
    "        try:\n",
    "            skew_value=(3*(data[feature].mean()-data[feature].median()))/data[feature].std()\n",
    "            if ((round(skew_value,2)<-3) or (round(skew_value,2)>3)):\n",
    "                skew_list[feature]='Skewwwwwwwwwwwwwwwwwwwwwwwwwwwwwwwwwwwwwwwwwwwwwwwwwwwwwwwwww'\n",
    "            else:\n",
    "                skew_list[feature]=round(skew_value,2)\n",
    "        except ZeroDivisionError:\n",
    "            skew_list[feature]='Skewwwwwwwwwwwwwwwwwwwwwwwwwwwwwwwwwwwwwwwwwwwwwwwwwwwwwwwwww'\n",
    "    return skew_list\n",
    "find_skew(cfp_data,numerical_columns)"
   ]
  },
  {
   "cell_type": "code",
   "execution_count": null,
   "id": "babde023",
   "metadata": {},
   "outputs": [],
   "source": [
    "#Finding better transformation \n",
    "#def test_transformers(data,columns):\n",
    "#     count=len(columns)\n",
    "#     pt = PowerTransformer()\n",
    "#     qt = QuantileTransformer(n_quantiles=500, output_distribution='normal')\n",
    "#     fig = plt.figure(figsize=(20,300))\n",
    "#     j = 1\n",
    "#     for i in columns:\n",
    "#         array = np.array(data[i]).reshape(-1, 1)\n",
    "#         y = pt.fit_transform(array)\n",
    "#         x = qt.fit_transform(array)\n",
    "#         plt.subplot(count,3,j)\n",
    "#         sns.histplot(array, bins = 50, kde = True)\n",
    "#         plt.title(f\"Original Distribution for {i}\")\n",
    "#         plt.subplot(count,3,j+1)\n",
    "#         sns.histplot(x, bins = 50, kde = True)\n",
    "#         plt.title(f\"Quantile Transform for {i}\")\n",
    "#         plt.subplot(count,3,j+2)\n",
    "#         sns.histplot(y, bins = 50, kde = True)\n",
    "#         plt.title(f\"Power Transform for {i}\")\n",
    "#         j += 3\n",
    "# test_transformers(cfp_data,numerical_columns)"
   ]
  },
  {
   "cell_type": "code",
   "execution_count": null,
   "id": "35d99902",
   "metadata": {},
   "outputs": [],
   "source": [
    "'''Transforming features - Adjusting for skewness'''\n",
    "qt = QuantileTransformer(n_quantiles=1000, output_distribution='normal')\n",
    "for i in numerical_columns:\n",
    "    array = np.array(cfp_data[i]).reshape(-1, 1)\n",
    "    try:\n",
    "        cfp_data[i] = qt.fit_transform(array)\n",
    "    except:\n",
    "        pass\n",
    "find_skew(cfp_data,numerical_columns)"
   ]
  },
  {
   "cell_type": "markdown",
   "id": "a2f9d558",
   "metadata": {},
   "source": [
    "### Pickling Data"
   ]
  },
  {
   "cell_type": "code",
   "execution_count": null,
   "id": "ede7249c",
   "metadata": {},
   "outputs": [],
   "source": [
    "# joblib.dump(cfp_data, 'cfp_clean_data_Green.pkl')\n",
    "joblib.dump(cfp_data, 'cfp_clean_data_Red.pkl')"
   ]
  },
  {
   "cell_type": "code",
   "execution_count": null,
   "id": "e78c89d5",
   "metadata": {},
   "outputs": [],
   "source": [
    "# cfp_clean_data=joblib.load('cfp_clean_data_Green.pkl')\n",
    "cfp_clean_data=joblib.load('cfp_clean_data_Red.pkl')"
   ]
  },
  {
   "cell_type": "markdown",
   "id": "fe690c97",
   "metadata": {},
   "source": [
    "### Removing Unwanted Columns"
   ]
  },
  {
   "cell_type": "code",
   "execution_count": null,
   "id": "1b50d15d",
   "metadata": {},
   "outputs": [],
   "source": [
    "cfp_clean_data=cfp_clean_data.drop(['user_id'],axis=1)"
   ]
  },
  {
   "cell_type": "code",
   "execution_count": null,
   "id": "f4ce487d",
   "metadata": {},
   "outputs": [],
   "source": [
    "cfp_clean_data.head()"
   ]
  },
  {
   "cell_type": "markdown",
   "id": "e2acc5ab",
   "metadata": {},
   "source": [
    "### Segregate Columns for Encoding and Scaling"
   ]
  },
  {
   "cell_type": "code",
   "execution_count": null,
   "id": "6dc4265d",
   "metadata": {},
   "outputs": [],
   "source": [
    "exemption_features=['cfp_subscribed']\n",
    "id_columns=['user_id']"
   ]
  },
  {
   "cell_type": "code",
   "execution_count": null,
   "id": "05acc4e9",
   "metadata": {},
   "outputs": [],
   "source": [
    "categorical_features=list(cfp_clean_data.select_dtypes(exclude='number').columns)\n",
    "categorical_features"
   ]
  },
  {
   "cell_type": "code",
   "execution_count": null,
   "id": "8809df72",
   "metadata": {},
   "outputs": [],
   "source": [
    "numeric_features=list(cfp_clean_data.select_dtypes(include='number').columns)\n",
    "for feature in exemption_features:\n",
    "    numeric_features.remove(feature)\n",
    "numeric_features"
   ]
  },
  {
   "cell_type": "code",
   "execution_count": null,
   "id": "0055ab04",
   "metadata": {},
   "outputs": [],
   "source": [
    "'''Encoding categorical features with dummies'''\n",
    "dummies = pd.get_dummies(data = cfp_clean_data[categorical_features], drop_first=True)\n",
    "dummies.head()"
   ]
  },
  {
   "cell_type": "code",
   "execution_count": null,
   "id": "1eb31e4d",
   "metadata": {
    "scrolled": true
   },
   "outputs": [],
   "source": [
    "'''Scaling numeric features'''\n",
    "standard_scalar = StandardScaler(with_mean=True,with_std=True)\n",
    "\n",
    "standard_scalar.fit(cfp_clean_data[numeric_features])\n",
    "numeric_data_scaled = standard_scalar.transform(cfp_clean_data[numeric_features])\n",
    "numeric_data_scaled = pd.DataFrame(numeric_data_scaled,columns=numeric_features)\n",
    "numeric_data_scaled.head()"
   ]
  },
  {
   "cell_type": "code",
   "execution_count": null,
   "id": "520ee1da",
   "metadata": {},
   "outputs": [],
   "source": [
    "'''Concatenating all features'''\n",
    "processed_dataset = pd.concat([cfp_data[id_columns].reset_index(drop = True), \n",
    "                               numeric_data_scaled.reset_index(drop = True),\n",
    "                               dummies.reset_index(drop = True),\n",
    "                              cfp_clean_data[exemption_features].reset_index(drop = True)], axis=1)\n",
    "processed_dataset.head()"
   ]
  },
  {
   "cell_type": "code",
   "execution_count": null,
   "id": "79fe2478",
   "metadata": {},
   "outputs": [],
   "source": [
    "'''Eliminating worst features to increase binding'''\n",
    "worst_features=['two_wheeler_count', 'citi_neg_flag', 'auto_loan_close_count_last3mnths', 'gold_loan_close_count_last3mnths', 'consumer_loan_close_count_last3mnths', 'housing_loan_close_count_last3mnths', 'credit_card_close_count_last3mnths', 'personal_loan_close_count_last3mnths', 'two_wheeler_close_count_last3mnths', 'secured_close_last3mnths', 'negative_status_close_count_last3mnths', 'joint_account_close_last3mnths', 'max_dpd_on_m9', 'max_dpd_on_m12', 'max_dpd_on_m6', 'salary_account_ALMORA URBAN COOPERATIVE BANK', 'salary_account_ANDHRA BANK', 'salary_account_AP MAHESH', 'salary_account_Abhyudaya co operative bank', 'salary_account_Allahabad bank', 'salary_account_Anand co op Bank', 'salary_account_Andhra Bank', 'salary_account_Andhrabank', 'salary_account_Axis Bank', 'salary_account_BANK OF BARODA', 'salary_account_BANK OF MAHARAHSTRA', 'salary_account_BANK OF MAHARASHTRA', 'salary_account_BANK OF MAHARASTRA', 'salary_account_BBK', 'salary_account_Bank of India', 'salary_account_Bank of india', 'salary_account_By Cash', 'salary_account_By cash', 'salary_account_CITI UNION BANK', 'salary_account_CITY UNION', 'salary_account_CORPORATION', 'salary_account_CORPORATION BANK', 'salary_account_Canara', 'salary_account_Canara Bank', 'salary_account_Canara bank', 'salary_account_Canarabank', 'salary_account_Cash', 'salary_account_Cheque -20000 and cash 5000', 'salary_account_Corp', 'salary_account_Corporation Bank', 'salary_account_Corporation bank', 'salary_account_Cosmos bank', 'salary_account_Dcb bank', 'salary_account_Dena bank', 'salary_account_Dhanlaxmi Bank', 'salary_account_FEDERAL', 'salary_account_Federal', 'salary_account_HSBC', 'salary_account_IDBI', 'salary_account_IDBI BANK', 'salary_account_IDBI Bank', 'salary_account_IDFC', 'salary_account_INDIAN BANK', 'salary_account_INDIAN OVERSEAS BANK', 'salary_account_INDUSIND', 'salary_account_INDUSIND BANK', 'salary_account_ING', 'salary_account_ING VYSYA BANK', 'salary_account_IOB', 'salary_account_Idbi bank', 'salary_account_Indian Bank', 'salary_account_Indian Overseas Bank', 'salary_account_Indian overseas bank', 'salary_account_Indusind', 'salary_account_Indusind bank', 'salary_account_Ing VYSYA bank', 'salary_account_JANATA SAHKARI BANK LIMITED PUNE', 'salary_account_KARNATAKA BANK', 'salary_account_KARNATAKA BANK LTD', 'salary_account_KARUR VYSYA', 'salary_account_KODAK MAHENDRA', 'salary_account_KOTAK MAHENDRA BANK', 'salary_account_KOTAK MAHINDAR BANK', 'salary_account_Karnataka bank', 'salary_account_Kaylan janta sahakari bank', 'salary_account_Kotak', 'salary_account_Kotak Mahendra Bank', 'salary_account_Kotak Mahindra', 'salary_account_Kotak Mahindra Bank', 'salary_account_Kotak Mahindra bank', 'salary_account_Kotak bank', 'salary_account_Kotak mahendhra', 'salary_account_Kotak mahendra bank', 'salary_account_MAY BANK', 'salary_account_ORIENTAL BANK OF COMMERCE', 'salary_account_Oriental Bank of Commerce', 'salary_account_PARSIK CO-OPERTAIVE BANK', 'salary_account_PAYTM', 'salary_account_PMC BANK', 'salary_account_PUNJAB AND SIND', 'salary_account_PUNJAB NATIONAL BANK', 'salary_account_Panjab national bank', 'salary_account_Punjab National Bank Pune', 'salary_account_Punjab national Bank', 'salary_account_Punjab national bank', 'salary_account_RBS', 'salary_account_RTGS', 'salary_account_Ratnakar bank', 'salary_account_SBH', 'salary_account_SBM', 'salary_account_SCB', 'salary_account_SOUTH INDIAN', 'salary_account_STANCHART', 'salary_account_STANDARD CHARTERED', 'salary_account_STATE BANK OF HYDERABAD', 'salary_account_SYNDICATE BANK', 'salary_account_Saptagiri Grameena Bank', 'salary_account_Saraswat Bank', 'salary_account_Standard Charted', 'salary_account_Standard Charterd Bank', 'salary_account_Standard Chartered', 'salary_account_Standard charter bank', 'salary_account_Standard chartered', 'salary_account_State Bank of Hyderabad', 'salary_account_State Bank of India', 'salary_account_Syndicate Bank', 'salary_account_UBI', 'salary_account_UCO bank', 'salary_account_UNION BANK OF INDIA', 'salary_account_UNITED BANK OF INDIA', 'salary_account_Union bank', 'salary_account_United bank of india', 'salary_account_VIJAYA', 'salary_account_VIJAYA BANK', 'salary_account_VIJYA BANK', 'salary_account_Vijaya bank', 'salary_account_YES BANK', 'salary_account_Yes bank ltd', 'salary_account_Yes banl', 'salary_account_andha bank', 'salary_account_bank of Maharastra', 'salary_account_bank of baroda', 'salary_account_bank of borada', 'salary_account_bank of maharashtra', 'salary_account_bank transfer', 'salary_account_canara bank', 'salary_account_cash', 'salary_account_cenra bank', 'salary_account_cheque & cash', 'salary_account_corporation bank', 'salary_account_corprotion bank', 'salary_account_cub', 'salary_account_federal bank', 'salary_account_govt bank', 'salary_account_hdfc bank', 'salary_account_idbi bank', 'salary_account_idbibank', 'salary_account_indian bank', 'salary_account_indianbank', 'salary_account_indicate bank', 'salary_account_indusind', 'salary_account_indusind Bank Ltd.', 'salary_account_ing vysya', 'salary_account_j&k', 'salary_account_jan seva cooperative bank', 'salary_account_kOTAK', 'salary_account_karnataka bank', 'salary_account_kaveri brahmin bank', 'salary_account_kotak bank', 'salary_account_kotak mahiendra bank', 'salary_account_kotak mahindra', 'salary_account_kotak mahindra Bank', 'salary_account_kvb', 'salary_account_oriental bank of commerce', 'salary_account_pnb', 'salary_account_punjab national bank', 'salary_account_receiveByCashOrCheque', 'salary_account_saraswat bank', 'salary_account_sarswat bank', 'salary_account_sate bank of hyderabad', 'salary_account_standard charted', 'salary_account_standard chatered', 'salary_account_standart chatered bank', 'salary_account_standred charted bank', 'salary_account_state bank of hyderabad', 'salary_account_state bank of mysore', 'salary_account_state bank of patiala', 'salary_account_svcBANK', 'salary_account_syndicate bank', 'salary_account_ubi', 'salary_account_uco', 'salary_account_yes','salary_account_ALLAHABAD', 'salary_account_Andhra bank', 'salary_account_BANK OF INDIA', 'salary_account_BOB', 'salary_account_BOI', 'salary_account_CANARA', 'salary_account_CANARA BANK', 'salary_account_CENTRAL BANK OF INDIA', 'salary_account_DBS', 'salary_account_FEDERAL BANK', 'salary_account_Federal Bank', 'salary_account_Federal bank', 'salary_account_Hsbc', 'salary_account_INDIAN', 'salary_account_INDIAN OVERSEAS', 'salary_account_Idbi', 'salary_account_Indian bank', 'salary_account_Indusind Bank', 'salary_account_J&K BANK', 'salary_account_KANARTAKA BANK', 'salary_account_KARNATAKA', 'salary_account_KOTAK', 'salary_account_KOTAK MAHINDRA', 'salary_account_KOTAK MAHINDRA BANK', 'salary_account_KOTAK MAHINDRA bank', 'salary_account_Karnataka bank Ltd', 'salary_account_Kotak mahindra bank', 'salary_account_OBC', 'salary_account_PNB', 'salary_account_PUNJAB NATIONAL', 'salary_account_SBBJ', 'salary_account_SBH, HYDERABAD.', 'salary_account_SBP', 'salary_account_SBT', 'salary_account_Syndicate bank', 'salary_account_The Federal Bank', 'salary_account_UCO BANK', 'salary_account_UNION', 'salary_account_United Bank of India', 'salary_account_Yes Bank', 'salary_account_Yes bank', 'salary_account_abdhra bank', 'salary_account_bank of india', 'salary_account_hsbc', 'salary_account_idbi', 'salary_account_indian overseas bank', 'salary_account_indusind bank', 'salary_account_karnataka', 'salary_account_kotak', 'salary_account_kotak Bank', 'salary_account_kotak mahindra bank', 'salary_account_standard chartered', 'salary_account_union bank', 'salary_account_union bank of india', 'salary_account_yes bank','salary_account_ANDHRA', 'salary_account_Axis', 'salary_account_I receive by cheque', 'salary_account_OBC BANK', 'salary_account_SBI GROUP', 'salary_account_central bank of india']\n",
    "try:\n",
    "    for feature in worst_features:\n",
    "        processed_dataset.drop([feature],axis=1,inplace=True)\n",
    "except:\n",
    "    pass\n",
    "processed_dataset.head()"
   ]
  },
  {
   "cell_type": "code",
   "execution_count": null,
   "id": "d735ce48",
   "metadata": {},
   "outputs": [],
   "source": [
    "processed_dataset.isnull().sum()"
   ]
  },
  {
   "cell_type": "code",
   "execution_count": null,
   "id": "cc401faf",
   "metadata": {},
   "outputs": [],
   "source": [
    "processed_dataset.corr(method='pearson').style.format(\"{:.2}\").background_gradient(cmap=plt.get_cmap('coolwarm'), axis=1)"
   ]
  },
  {
   "cell_type": "markdown",
   "id": "072b10a1",
   "metadata": {},
   "source": [
    "## Train Test Split"
   ]
  },
  {
   "cell_type": "code",
   "execution_count": null,
   "id": "6f2bcf64",
   "metadata": {},
   "outputs": [],
   "source": [
    "'''  Preparing test and train data '''\n",
    "X = processed_dataset.loc[:,processed_dataset.columns != 'cfp_subscribed']\n",
    "y = processed_dataset['cfp_subscribed']\n",
    "train_X_u,test_X_u,train_y,test_y = train_test_split(X,y,random_state=31,test_size=0.3)\n",
    "train_X = train_X_u.loc[:,train_X_u.columns != 'user_id']\n",
    "test_X = test_X_u.loc[:,test_X_u.columns != 'user_id']"
   ]
  },
  {
   "cell_type": "markdown",
   "id": "5bdb9c1e",
   "metadata": {},
   "source": [
    "## Model Building"
   ]
  },
  {
   "cell_type": "markdown",
   "id": "73203bfe",
   "metadata": {},
   "source": [
    "### Training"
   ]
  },
  {
   "cell_type": "markdown",
   "id": "adf6e595",
   "metadata": {},
   "source": [
    "##### Initializing Model, Hyper Parameter Tuning and Model Fitting"
   ]
  },
  {
   "cell_type": "code",
   "execution_count": null,
   "id": "2b682331",
   "metadata": {
    "scrolled": true
   },
   "outputs": [],
   "source": [
    "''' Tuning Grid '''\n",
    "gridParams = {'n_estimators': [100,300],\n",
    "                'max_features':['sqrt','log2',None],\n",
    "                'criterion':['gini', 'entropy'],\n",
    "                 'max_depth':[20]}\n",
    "\n",
    "'''Model Object'''\n",
    "random_forest = RandomForestClassifier(random_state = 15,warm_start=False)\n",
    "\n",
    "\n",
    "''' Grid Formation '''\n",
    "grid = RandomizedSearchCV(estimator = random_forest , param_distributions= gridParams, verbose = 4, cv = 3)\n",
    "grid.fit(train_X, train_y)\n"
   ]
  },
  {
   "cell_type": "code",
   "execution_count": null,
   "id": "caf71582",
   "metadata": {},
   "outputs": [],
   "source": [
    "best_features = grid.best_estimator_\n",
    "print(best_features)"
   ]
  },
  {
   "cell_type": "code",
   "execution_count": null,
   "id": "e70f7aef",
   "metadata": {},
   "outputs": [],
   "source": [
    "feature_importances_dict={}\n",
    "for i in range (0,len(best_features.feature_importances_)):\n",
    "    feature_importances_dict[best_features.feature_names_in_[i]]=best_features.feature_importances_[i]\n",
    "dict(sorted(feature_importances_dict.items(), key=lambda item: item[1]))\n"
   ]
  },
  {
   "cell_type": "markdown",
   "id": "5ca27da6",
   "metadata": {},
   "source": [
    "##### Pickling Model"
   ]
  },
  {
   "cell_type": "code",
   "execution_count": null,
   "id": "09771396",
   "metadata": {},
   "outputs": [],
   "source": [
    "''' Saving model as pickle object '''\n",
    "# joblib.dump(grid,\"clf_model_basic.pkl\")\n",
    "# joblib.dump(best_features,\"clf_model_best_features.pkl\")\n",
    "# joblib.dump(grid,\"clf_model_basic_Green.pkl\")\n",
    "# joblib.dump(best_features,\"clf_model_best_features_Green.pkl\")\n",
    "joblib.dump(grid,\"clf_model_basic_Red1.pkl\")\n",
    "joblib.dump(best_features,\"clf_model_best_features_Red1.pkl\")"
   ]
  },
  {
   "cell_type": "markdown",
   "id": "057bd07e",
   "metadata": {},
   "source": [
    "### Predicting"
   ]
  },
  {
   "cell_type": "markdown",
   "id": "aa09f78f",
   "metadata": {},
   "source": [
    "##### Predicting the test data"
   ]
  },
  {
   "cell_type": "code",
   "execution_count": null,
   "id": "2a8d91e8",
   "metadata": {},
   "outputs": [],
   "source": [
    "''' Predicting using the best fit parameters '''\n",
    "# test_fit = best_features.predict_proba(test_X)\n",
    "# y_pred = pd.DataFrame(test_fit, columns = ['predicted_value'])\n",
    "test_fit = calibrator.predict_proba(test_X)\n",
    "y_pred=pd.DataFrame(test_fit)"
   ]
  },
  {
   "cell_type": "code",
   "execution_count": null,
   "id": "a55335d1",
   "metadata": {},
   "outputs": [],
   "source": [
    "# y_pred['predicted_value'].value_counts()\n",
    "y_pred[1].max()"
   ]
  },
  {
   "cell_type": "code",
   "execution_count": null,
   "id": "2912b212",
   "metadata": {},
   "outputs": [],
   "source": [
    "# predicted_y=y_pred['predicted_value'].apply(lambda x: 1.00 if x >= 1 else 0.00)\n",
    "predicted_y=y_pred[1].apply(lambda x: 1 if x >= 0.0044 else 0)"
   ]
  },
  {
   "cell_type": "markdown",
   "id": "badff904",
   "metadata": {},
   "source": [
    "### Metrics"
   ]
  },
  {
   "cell_type": "markdown",
   "id": "1687708a",
   "metadata": {},
   "source": [
    "##### Testing Accuracy"
   ]
  },
  {
   "cell_type": "code",
   "execution_count": null,
   "id": "34598219",
   "metadata": {},
   "outputs": [],
   "source": [
    "accuracy_score(test_y, predicted_y)"
   ]
  },
  {
   "cell_type": "code",
   "execution_count": null,
   "id": "c5f92399",
   "metadata": {},
   "outputs": [],
   "source": [
    "cm=ConfusionMatrixDisplay(confusion_matrix(test_y, predicted_y),display_labels=grid.classes_)\n",
    "cm.plot()\n",
    "plt.show()"
   ]
  },
  {
   "cell_type": "code",
   "execution_count": null,
   "id": "f87c7451",
   "metadata": {},
   "outputs": [],
   "source": [
    "false_positive_rate, true_positive_rate, threshold1 = roc_curve(test_y, predicted_y)\n",
    "'roc='+str(roc_auc_score(test_y, predicted_y))"
   ]
  },
  {
   "cell_type": "code",
   "execution_count": null,
   "id": "8a536619",
   "metadata": {},
   "outputs": [],
   "source": [
    "mae = mean_absolute_error(test_y, predicted_y)\n",
    "mse = mean_squared_error(test_y, predicted_y)\n",
    "rmse = np.sqrt(mse) # or mse**(0.5)  \n",
    "r2 = r2_score(test_y, predicted_y)\n",
    "\n",
    "print(\"Results of sklearn.metrics:\")\n",
    "print(\"MAE:\",mae)\n",
    "print(\"MSE:\", mse)\n",
    "print(\"RMSE:\", rmse)\n",
    "print(\"R-Squared:\", r2)"
   ]
  },
  {
   "cell_type": "code",
   "execution_count": null,
   "id": "64b40b34",
   "metadata": {},
   "outputs": [],
   "source": [
    "plt.subplots(1, figsize=(10,10))\n",
    "plt.title('Receiver Operating Characteristic')\n",
    "plt.plot(false_positive_rate, true_positive_rate)\n",
    "plt.plot([0, 1], ls=\"--\")\n",
    "plt.plot([0, 0], [1, 0] , c=\".7\"), plt.plot([1, 1] , c=\".7\")\n",
    "plt.ylabel('True Positive Rate')\n",
    "plt.xlabel('False Positive Rate')\n",
    "plt.show()"
   ]
  },
  {
   "cell_type": "markdown",
   "id": "e6649f8c",
   "metadata": {},
   "source": [
    "### Split to Deciles"
   ]
  },
  {
   "cell_type": "code",
   "execution_count": null,
   "id": "f869ab28",
   "metadata": {},
   "outputs": [],
   "source": [
    "y_pred_deciles = pd.concat([y_pred[1].reset_index(drop = True), test_X_u['user_id'].reset_index(drop = True)], axis = 1)\n",
    "y_pred_deciles.rename(columns = {1:'predicted_value'}, inplace = True)\n",
    "y_pred_deciles.head()"
   ]
  },
  {
   "cell_type": "code",
   "execution_count": null,
   "id": "5b04a8ec",
   "metadata": {},
   "outputs": [],
   "source": [
    "y_pred_deciles = pd.merge(y_pred_deciles,cfp_backup, on = 'user_id', how = 'left')\n",
    "y_pred_deciles.head()"
   ]
  },
  {
   "cell_type": "code",
   "execution_count": null,
   "id": "215c1dc2",
   "metadata": {},
   "outputs": [],
   "source": [
    "y_pred_deciles['decile'] = pd.qcut(y_pred_deciles['predicted_value'].rank(method='first'), 10, labels=False)\n",
    "y_pred_deciles['decile'] = y_pred_deciles['decile'].apply(lambda x: int(10 - x))\n",
    "y_pred_deciles['decile'].value_counts()"
   ]
  },
  {
   "cell_type": "markdown",
   "id": "0002ebf4",
   "metadata": {},
   "source": [
    "#### Export to CSV"
   ]
  },
  {
   "cell_type": "code",
   "execution_count": null,
   "id": "34636dd8",
   "metadata": {},
   "outputs": [],
   "source": [
    "# y_pred_deciles.to_csv('CFP_deciled_data_Green.csv')\n",
    "y_pred_deciles.to_csv('CFP_deciled_data_Red.csv')"
   ]
  }
 ],
 "metadata": {
  "kernelspec": {
   "display_name": "Python 3 (ipykernel)",
   "language": "python",
   "name": "python3"
  },
  "language_info": {
   "codemirror_mode": {
    "name": "ipython",
    "version": 3
   },
   "file_extension": ".py",
   "mimetype": "text/x-python",
   "name": "python",
   "nbconvert_exporter": "python",
   "pygments_lexer": "ipython3",
   "version": "3.9.15"
  }
 },
 "nbformat": 4,
 "nbformat_minor": 5
}
