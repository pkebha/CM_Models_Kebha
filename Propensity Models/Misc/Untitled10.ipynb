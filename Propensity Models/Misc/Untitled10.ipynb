{
 "cells": [
  {
   "cell_type": "code",
   "execution_count": 4,
   "id": "52bd0eeb",
   "metadata": {},
   "outputs": [],
   "source": [
    "import joblib"
   ]
  },
  {
   "cell_type": "code",
   "execution_count": 5,
   "id": "b79b2ea7",
   "metadata": {},
   "outputs": [],
   "source": [
    "'''Model Object'''\n",
    "emi =joblib.load('CH_EMI_RF_v1.2.pkl')\n",
    "txn = joblib.load('CH_TXN_RF_v1.1.pkl')\n",
    "bl = joblib.load('CH_BL_RF_v1.1.pkl')\n",
    "hl = joblib.load('CH_HL_RF_v1.1.pkl')\n",
    "al = joblib.load('CH_AL_RF_v1.1.pkl')"
   ]
  },
  {
   "cell_type": "code",
   "execution_count": 8,
   "id": "57ad2d2a",
   "metadata": {},
   "outputs": [],
   "source": [
    "emi_list=list(dict(sorted(dict(zip(emi.feature_names_in_, emi.feature_importances_)).items(), key=lambda item: item[1],reverse=True)).keys())\n",
    "txn_list=list(dict(sorted(dict(zip(txn.feature_names_in_, txn.feature_importances_)).items(), key=lambda item: item[1],reverse=True)).keys())\n",
    "bl_list=list(dict(sorted(dict(zip(bl.feature_names_in_, bl.feature_importances_)).items(), key=lambda item: item[1],reverse=True)).keys())\n",
    "hl_list=list(dict(sorted(dict(zip(hl.feature_names_in_, hl.feature_importances_)).items(), key=lambda item: item[1],reverse=True)).keys())\n",
    "al_list=list(dict(sorted(dict(zip(al.feature_names_in_, al.feature_importances_)).items(), key=lambda item: item[1],reverse=True)).keys())"
   ]
  },
  {
   "cell_type": "code",
   "execution_count": 9,
   "id": "2d4eed1b",
   "metadata": {},
   "outputs": [
    {
     "data": {
      "text/plain": [
       "['seasoning',\n",
       " 'enquiries_made',\n",
       " 'total_accounts',\n",
       " 'ontime_payment_percentage',\n",
       " 'portfolio_mix_unsecured',\n",
       " 'no_of_active_accounts',\n",
       " 'positive_status_accounts',\n",
       " 'negative_status_accounts',\n",
       " 'calculated_emi',\n",
       " 'p_customer_type_Red',\n",
       " 'annual_income',\n",
       " 'open_accounts',\n",
       " 'credit_utilization_avg',\n",
       " 'closed_accounts',\n",
       " 'existing_foir',\n",
       " 'p_customer_type_Green',\n",
       " 'is_saleable',\n",
       " 'p_credit_score',\n",
       " 'credit_utilization',\n",
       " 'portfolio_mix_secured',\n",
       " 'no_of_delayed_payments_on_active_accounts',\n",
       " 'no_of_delayed_payments',\n",
       " 'related_accounts',\n",
       " 'minor_issues',\n",
       " 'p_equifax_income_Other',\n",
       " 'p_occupation_Other',\n",
       " 'p_equifax_income_15-20k',\n",
       " 'p_equifax_income_20-25k',\n",
       " 'p_occupation_SelfEmployed',\n",
       " 'p_occupation_Salaried',\n",
       " 'p_equifax_income_10-15k',\n",
       " 'max_dpd',\n",
       " 'p_equifax_income_25-30k']"
      ]
     },
     "execution_count": 9,
     "metadata": {},
     "output_type": "execute_result"
    }
   ],
   "source": [
    "emi_list"
   ]
  },
  {
   "cell_type": "code",
   "execution_count": 10,
   "id": "9f62b9c5",
   "metadata": {},
   "outputs": [
    {
     "data": {
      "text/plain": [
       "['calculated_emi',\n",
       " 'ontime_payment_percentage',\n",
       " 'seasoning',\n",
       " 'p_credit_score',\n",
       " 'total_accounts',\n",
       " 'no_of_active_accounts',\n",
       " 'credit_utilization',\n",
       " 'credit_utilization_avg',\n",
       " 'enquiries_made',\n",
       " 'existing_foir',\n",
       " 'minor_issues',\n",
       " 'positive_status_accounts',\n",
       " 'annual_income',\n",
       " 'closed_accounts',\n",
       " 'portfolio_mix_unsecured',\n",
       " 'open_accounts',\n",
       " 'no_of_delayed_payments_on_active_accounts',\n",
       " 'no_of_delayed_payments',\n",
       " 'related_accounts',\n",
       " 'portfolio_mix_secured',\n",
       " 'is_saleable',\n",
       " 'p_occupation_Other',\n",
       " 'negative_status_accounts',\n",
       " 'p_occupation_Salaried',\n",
       " 'p_equifax_income_Other',\n",
       " 'p_equifax_income_40-45k',\n",
       " 'p_occupation_SelfEmployed',\n",
       " 'p_equifax_income_15-20k',\n",
       " 'p_customer_type_Green',\n",
       " 'p_customer_type_Red',\n",
       " 'p_equifax_income_20-25k',\n",
       " 'p_equifax_income_10-15k',\n",
       " 'p_equifax_income_25-30k',\n",
       " 'max_dpd',\n",
       " 'p_equifax_income_30-35k',\n",
       " 'p_equifax_income_<10k',\n",
       " 'p_equifax_income_35-40k',\n",
       " 'p_customer_type_Amber']"
      ]
     },
     "execution_count": 10,
     "metadata": {},
     "output_type": "execute_result"
    }
   ],
   "source": [
    "txn_list"
   ]
  },
  {
   "cell_type": "code",
   "execution_count": 11,
   "id": "0532540c",
   "metadata": {},
   "outputs": [
    {
     "data": {
      "text/plain": [
       "['calculated_emi',\n",
       " 'positive_status_accounts',\n",
       " 'seasoning',\n",
       " 'no_of_active_accounts',\n",
       " 'ontime_payment_percentage',\n",
       " 'minor_issues',\n",
       " 'total_accounts',\n",
       " 'closed_accounts',\n",
       " 'portfolio_mix_unsecured',\n",
       " 'existing_foir',\n",
       " 'open_accounts',\n",
       " 'annual_income',\n",
       " 'portfolio_mix_secured',\n",
       " 'related_accounts',\n",
       " 'p_equifax_income_40-45k',\n",
       " 'p_credit_score',\n",
       " 'no_of_delayed_payments',\n",
       " 'no_of_delayed_payments_on_active_accounts',\n",
       " 'enquiries_made',\n",
       " 'p_customer_type_Amber',\n",
       " 'p_equifax_income_Other',\n",
       " 'credit_utilization',\n",
       " 'credit_utilization_avg',\n",
       " 'is_saleable',\n",
       " 'p_customer_type_Green',\n",
       " 'p_equifax_income_15-20k',\n",
       " 'negative_status_accounts',\n",
       " 'p_occupation_SelfEmployed',\n",
       " 'p_customer_type_Red',\n",
       " 'p_occupation_Salaried',\n",
       " 'p_equifax_income_10-15k',\n",
       " 'p_occupation_Other',\n",
       " 'p_equifax_income_<10k',\n",
       " 'p_equifax_income_20-25k',\n",
       " 'max_dpd',\n",
       " 'p_equifax_income_25-30k',\n",
       " 'p_equifax_income_30-35k',\n",
       " 'p_equifax_income_35-40k']"
      ]
     },
     "execution_count": 11,
     "metadata": {},
     "output_type": "execute_result"
    }
   ],
   "source": [
    "bl_list"
   ]
  },
  {
   "cell_type": "code",
   "execution_count": 12,
   "id": "13c04c9a",
   "metadata": {},
   "outputs": [
    {
     "data": {
      "text/plain": [
       "['calculated_emi',\n",
       " 'credit_utilization_avg',\n",
       " 'portfolio_mix_secured',\n",
       " 'credit_utilization',\n",
       " 'minor_issues',\n",
       " 'ontime_payment_percentage',\n",
       " 'annual_income',\n",
       " 'positive_status_accounts',\n",
       " 'total_accounts',\n",
       " 'related_accounts',\n",
       " 'no_of_active_accounts',\n",
       " 'portfolio_mix_unsecured',\n",
       " 'p_credit_score',\n",
       " 'closed_accounts',\n",
       " 'existing_foir',\n",
       " 'is_saleable',\n",
       " 'open_accounts',\n",
       " 'no_of_delayed_payments_on_active_accounts',\n",
       " 'no_of_delayed_payments',\n",
       " 'seasoning',\n",
       " 'enquiries_made',\n",
       " 'p_equifax_income_40-45k',\n",
       " 'p_customer_type_Amber',\n",
       " 'negative_status_accounts',\n",
       " 'p_equifax_income_Other',\n",
       " 'p_customer_type_Red',\n",
       " 'p_customer_type_Green',\n",
       " 'p_occupation_Salaried',\n",
       " 'p_occupation_Other',\n",
       " 'p_equifax_income_15-20k',\n",
       " 'p_occupation_SelfEmployed',\n",
       " 'p_equifax_income_10-15k',\n",
       " 'p_equifax_income_20-25k',\n",
       " 'p_equifax_income_25-30k',\n",
       " 'max_dpd',\n",
       " 'p_equifax_income_35-40k',\n",
       " 'p_equifax_income_<10k',\n",
       " 'p_equifax_income_30-35k']"
      ]
     },
     "execution_count": 12,
     "metadata": {},
     "output_type": "execute_result"
    }
   ],
   "source": [
    "hl_list"
   ]
  },
  {
   "cell_type": "code",
   "execution_count": 13,
   "id": "b51ba68b",
   "metadata": {},
   "outputs": [
    {
     "data": {
      "text/plain": [
       "['calculated_emi',\n",
       " 'no_of_active_accounts',\n",
       " 'portfolio_mix_secured',\n",
       " 'positive_status_accounts',\n",
       " 'ontime_payment_percentage',\n",
       " 'minor_issues',\n",
       " 'total_accounts',\n",
       " 'portfolio_mix_unsecured',\n",
       " 'closed_accounts',\n",
       " 'annual_income',\n",
       " 'open_accounts',\n",
       " 'seasoning',\n",
       " 'related_accounts',\n",
       " 'p_credit_score',\n",
       " 'existing_foir',\n",
       " 'credit_utilization',\n",
       " 'credit_utilization_avg',\n",
       " 'is_saleable',\n",
       " 'no_of_delayed_payments_on_active_accounts',\n",
       " 'enquiries_made',\n",
       " 'no_of_delayed_payments',\n",
       " 'p_equifax_income_40-45k',\n",
       " 'negative_status_accounts',\n",
       " 'p_customer_type_Amber',\n",
       " 'p_customer_type_Red',\n",
       " 'p_equifax_income_Other',\n",
       " 'p_equifax_income_15-20k',\n",
       " 'p_customer_type_Green',\n",
       " 'p_equifax_income_10-15k',\n",
       " 'max_dpd',\n",
       " 'p_occupation_SelfEmployed',\n",
       " 'p_equifax_income_20-25k',\n",
       " 'p_occupation_Other',\n",
       " 'p_occupation_Salaried',\n",
       " 'p_equifax_income_25-30k',\n",
       " 'p_equifax_income_30-35k',\n",
       " 'p_equifax_income_<10k',\n",
       " 'p_equifax_income_35-40k']"
      ]
     },
     "execution_count": 13,
     "metadata": {},
     "output_type": "execute_result"
    }
   ],
   "source": [
    "al_list"
   ]
  },
  {
   "cell_type": "code",
   "execution_count": null,
   "id": "b7aadcf4",
   "metadata": {},
   "outputs": [],
   "source": []
  },
  {
   "cell_type": "code",
   "execution_count": null,
   "id": "fd27a60f",
   "metadata": {},
   "outputs": [],
   "source": []
  }
 ],
 "metadata": {
  "kernelspec": {
   "display_name": "Python 3 (ipykernel)",
   "language": "python",
   "name": "python3"
  },
  "language_info": {
   "codemirror_mode": {
    "name": "ipython",
    "version": 3
   },
   "file_extension": ".py",
   "mimetype": "text/x-python",
   "name": "python",
   "nbconvert_exporter": "python",
   "pygments_lexer": "ipython3",
   "version": "3.9.15"
  }
 },
 "nbformat": 4,
 "nbformat_minor": 5
}
