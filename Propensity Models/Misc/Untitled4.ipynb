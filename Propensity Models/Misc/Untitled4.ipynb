{
 "cells": [
  {
   "cell_type": "code",
   "execution_count": 1,
   "id": "838799af",
   "metadata": {},
   "outputs": [],
   "source": [
    "public_sector_banks=['State Bank of India','Allahabad Bank','Andhra Bank','Bank of Baroda','Bank of India','Bank of Maharashtra','Canara Bank','Central Bank of India','Corporation Bank','Dena Bank','Indian Bank','Indian Overseas Bank','Oriental Bank of Commerce','Punjab National Bank','Punjab & Sind Bank','Syndicate Bank','Union Bank of India','United Bank of India','UCO Bank','Vijaya Bank','IDBI Bank']\n",
    "popular_private_banks=['Catholic Syrian Bank','City Union Bank','Dhanlaxmi Bank','Federal Bank','Jammu and Kashmir Bank','Karnataka Bank','Karur Vysya Bank','Lakshmi Vilas Bank','Nainital Bank','Ratnakar Bank','South Indian Bank','Tamilnad Mercantile Bank','Axis Bank','Development Credit Bank', 'DCB Bank','HDFC Bank','ICICI Bank','IndusInd Bank','Kotak Mahindra Bank','Yes Bank','IDFC','Bandhan Bank of Bandhan Financial Services']\n",
    "foreign_banks=['Australia and New Zealand Banking Group','National Australia Bank','Westpac Banking Corporation','Bank of Bahrain & Kuwait BSC','AB Bank','HSBC','CITI Bank','Deutsche Bank','DBS Bank','United Overseas Bank','J.P. Morgan Chase Bank','Standard Chartered Bank']"
   ]
  },
  {
   "cell_type": "code",
   "execution_count": null,
   "id": "00ed59d4",
   "metadata": {},
   "outputs": [],
   "source": [
    "\n",
    "      "
   ]
  }
 ],
 "metadata": {
  "kernelspec": {
   "display_name": "Python 3 (ipykernel)",
   "language": "python",
   "name": "python3"
  },
  "language_info": {
   "codemirror_mode": {
    "name": "ipython",
    "version": 3
   },
   "file_extension": ".py",
   "mimetype": "text/x-python",
   "name": "python",
   "nbconvert_exporter": "python",
   "pygments_lexer": "ipython3",
   "version": "3.9.15"
  }
 },
 "nbformat": 4,
 "nbformat_minor": 5
}
