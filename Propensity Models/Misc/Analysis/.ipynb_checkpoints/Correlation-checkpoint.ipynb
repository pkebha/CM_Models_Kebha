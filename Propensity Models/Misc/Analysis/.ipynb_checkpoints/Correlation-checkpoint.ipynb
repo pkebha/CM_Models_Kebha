{
 "cells": [
  {
   "cell_type": "code",
   "execution_count": null,
   "id": "e71d969e-3e96-4a0c-bd88-a4b7c07d576d",
   "metadata": {},
   "outputs": [],
   "source": [
    "import pandas as pd"
   ]
  },
  {
   "cell_type": "code",
   "execution_count": null,
   "id": "ae265148-4a7b-462c-8996-a94fbbc480fd",
   "metadata": {},
   "outputs": [],
   "source": [
    "data_set=pd.read_csv('MV_Analysis_20221117_new.csv')"
   ]
  }
 ],
 "metadata": {
  "kernelspec": {
   "display_name": "Python 3 (ipykernel)",
   "language": "python",
   "name": "python3"
  },
  "language_info": {
   "codemirror_mode": {
    "name": "ipython",
    "version": 3
   },
   "file_extension": ".py",
   "mimetype": "text/x-python",
   "name": "python",
   "nbconvert_exporter": "python",
   "pygments_lexer": "ipython3",
   "version": "3.9.13"
  }
 },
 "nbformat": 4,
 "nbformat_minor": 5
}
